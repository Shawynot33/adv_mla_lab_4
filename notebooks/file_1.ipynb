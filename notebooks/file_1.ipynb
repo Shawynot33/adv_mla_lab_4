{
 "cells": [
  {
   "cell_type": "code",
   "execution_count": 1,
   "id": "99f64509-102a-40c1-ba11-779c0ebd8a1b",
   "metadata": {},
   "outputs": [],
   "source": [
    "%load_ext autoreload\n",
    "%autoreload 2"
   ]
  },
  {
   "cell_type": "code",
   "execution_count": 2,
   "id": "cf73b986-ea3c-4bfc-b3ad-97d5e4a1ee69",
   "metadata": {},
   "outputs": [
    {
     "name": "stdout",
     "output_type": "stream",
     "text": [
      "Requirement already satisfied: my_krml_25552249==2025.0.6.2 in /Users/shawya1/Library/Caches/pypoetry/virtualenvs/adv-mla-lab-4-Obe-FS2A-py3.11/lib/python3.11/site-packages (2025.0.6.2)\n",
      "Requirement already satisfied: pandas==2.2.2 in /Users/shawya1/Library/Caches/pypoetry/virtualenvs/adv-mla-lab-4-Obe-FS2A-py3.11/lib/python3.11/site-packages (from my_krml_25552249==2025.0.6.2) (2.2.2)\n",
      "Requirement already satisfied: scikit-learn<2.0.0,>=1.5.1 in /Users/shawya1/Library/Caches/pypoetry/virtualenvs/adv-mla-lab-4-Obe-FS2A-py3.11/lib/python3.11/site-packages (from my_krml_25552249==2025.0.6.2) (1.5.1)\n",
      "Requirement already satisfied: numpy>=1.23.2 in /Users/shawya1/Library/Caches/pypoetry/virtualenvs/adv-mla-lab-4-Obe-FS2A-py3.11/lib/python3.11/site-packages (from pandas==2.2.2->my_krml_25552249==2025.0.6.2) (2.3.2)\n",
      "Requirement already satisfied: python-dateutil>=2.8.2 in /Users/shawya1/Library/Caches/pypoetry/virtualenvs/adv-mla-lab-4-Obe-FS2A-py3.11/lib/python3.11/site-packages (from pandas==2.2.2->my_krml_25552249==2025.0.6.2) (2.9.0.post0)\n",
      "Requirement already satisfied: pytz>=2020.1 in /Users/shawya1/Library/Caches/pypoetry/virtualenvs/adv-mla-lab-4-Obe-FS2A-py3.11/lib/python3.11/site-packages (from pandas==2.2.2->my_krml_25552249==2025.0.6.2) (2025.2)\n",
      "Requirement already satisfied: tzdata>=2022.7 in /Users/shawya1/Library/Caches/pypoetry/virtualenvs/adv-mla-lab-4-Obe-FS2A-py3.11/lib/python3.11/site-packages (from pandas==2.2.2->my_krml_25552249==2025.0.6.2) (2025.2)\n",
      "Requirement already satisfied: scipy>=1.6.0 in /Users/shawya1/Library/Caches/pypoetry/virtualenvs/adv-mla-lab-4-Obe-FS2A-py3.11/lib/python3.11/site-packages (from scikit-learn<2.0.0,>=1.5.1->my_krml_25552249==2025.0.6.2) (1.16.1)\n",
      "Requirement already satisfied: joblib>=1.2.0 in /Users/shawya1/Library/Caches/pypoetry/virtualenvs/adv-mla-lab-4-Obe-FS2A-py3.11/lib/python3.11/site-packages (from scikit-learn<2.0.0,>=1.5.1->my_krml_25552249==2025.0.6.2) (1.5.2)\n",
      "Requirement already satisfied: threadpoolctl>=3.1.0 in /Users/shawya1/Library/Caches/pypoetry/virtualenvs/adv-mla-lab-4-Obe-FS2A-py3.11/lib/python3.11/site-packages (from scikit-learn<2.0.0,>=1.5.1->my_krml_25552249==2025.0.6.2) (3.6.0)\n",
      "Requirement already satisfied: six>=1.5 in /Users/shawya1/Library/Caches/pypoetry/virtualenvs/adv-mla-lab-4-Obe-FS2A-py3.11/lib/python3.11/site-packages (from python-dateutil>=2.8.2->pandas==2.2.2->my_krml_25552249==2025.0.6.2) (1.17.0)\n",
      "\n",
      "\u001b[1m[\u001b[0m\u001b[34;49mnotice\u001b[0m\u001b[1;39;49m]\u001b[0m\u001b[39;49m A new release of pip is available: \u001b[0m\u001b[31;49m25.1.1\u001b[0m\u001b[39;49m -> \u001b[0m\u001b[32;49m25.2\u001b[0m\n",
      "\u001b[1m[\u001b[0m\u001b[34;49mnotice\u001b[0m\u001b[1;39;49m]\u001b[0m\u001b[39;49m To update, run: \u001b[0m\u001b[32;49mpip install --upgrade pip\u001b[0m\n"
     ]
    }
   ],
   "source": [
    "!pip install my_krml_25552249==2025.0.6.2"
   ]
  },
  {
   "cell_type": "code",
   "execution_count": 3,
   "id": "1b6cdcba-fc53-4a47-acc7-42b8b2c8d159",
   "metadata": {},
   "outputs": [],
   "source": [
    "import pandas as pd\n",
    "import numpy as np"
   ]
  },
  {
   "cell_type": "code",
   "execution_count": 4,
   "id": "29cd77d4-6bb8-4855-bcb2-cbb4efba936c",
   "metadata": {},
   "outputs": [],
   "source": [
    "df = pd.read_csv('../data/raw/OnlineNewsPopularity.csv')"
   ]
  },
  {
   "cell_type": "code",
   "execution_count": 5,
   "id": "9f01eb07-f63f-4303-8522-f29df86e4e55",
   "metadata": {},
   "outputs": [
    {
     "data": {
      "text/html": [
       "<div>\n",
       "<style scoped>\n",
       "    .dataframe tbody tr th:only-of-type {\n",
       "        vertical-align: middle;\n",
       "    }\n",
       "\n",
       "    .dataframe tbody tr th {\n",
       "        vertical-align: top;\n",
       "    }\n",
       "\n",
       "    .dataframe thead th {\n",
       "        text-align: right;\n",
       "    }\n",
       "</style>\n",
       "<table border=\"1\" class=\"dataframe\">\n",
       "  <thead>\n",
       "    <tr style=\"text-align: right;\">\n",
       "      <th></th>\n",
       "      <th>url</th>\n",
       "      <th>timedelta</th>\n",
       "      <th>n_tokens_title</th>\n",
       "      <th>n_tokens_content</th>\n",
       "      <th>n_unique_tokens</th>\n",
       "      <th>n_non_stop_words</th>\n",
       "      <th>n_non_stop_unique_tokens</th>\n",
       "      <th>num_hrefs</th>\n",
       "      <th>num_self_hrefs</th>\n",
       "      <th>num_imgs</th>\n",
       "      <th>...</th>\n",
       "      <th>min_positive_polarity</th>\n",
       "      <th>max_positive_polarity</th>\n",
       "      <th>avg_negative_polarity</th>\n",
       "      <th>min_negative_polarity</th>\n",
       "      <th>max_negative_polarity</th>\n",
       "      <th>title_subjectivity</th>\n",
       "      <th>title_sentiment_polarity</th>\n",
       "      <th>abs_title_subjectivity</th>\n",
       "      <th>abs_title_sentiment_polarity</th>\n",
       "      <th>shares</th>\n",
       "    </tr>\n",
       "  </thead>\n",
       "  <tbody>\n",
       "    <tr>\n",
       "      <th>0</th>\n",
       "      <td>http://mashable.com/2013/01/07/amazon-instant-...</td>\n",
       "      <td>731.0</td>\n",
       "      <td>12.0</td>\n",
       "      <td>219.0</td>\n",
       "      <td>0.663594</td>\n",
       "      <td>1.0</td>\n",
       "      <td>0.815385</td>\n",
       "      <td>4.0</td>\n",
       "      <td>2.0</td>\n",
       "      <td>1.0</td>\n",
       "      <td>...</td>\n",
       "      <td>0.100000</td>\n",
       "      <td>0.7</td>\n",
       "      <td>-0.350000</td>\n",
       "      <td>-0.600</td>\n",
       "      <td>-0.200000</td>\n",
       "      <td>0.500000</td>\n",
       "      <td>-0.187500</td>\n",
       "      <td>0.000000</td>\n",
       "      <td>0.187500</td>\n",
       "      <td>593</td>\n",
       "    </tr>\n",
       "    <tr>\n",
       "      <th>1</th>\n",
       "      <td>http://mashable.com/2013/01/07/ap-samsung-spon...</td>\n",
       "      <td>731.0</td>\n",
       "      <td>9.0</td>\n",
       "      <td>255.0</td>\n",
       "      <td>0.604743</td>\n",
       "      <td>1.0</td>\n",
       "      <td>0.791946</td>\n",
       "      <td>3.0</td>\n",
       "      <td>1.0</td>\n",
       "      <td>1.0</td>\n",
       "      <td>...</td>\n",
       "      <td>0.033333</td>\n",
       "      <td>0.7</td>\n",
       "      <td>-0.118750</td>\n",
       "      <td>-0.125</td>\n",
       "      <td>-0.100000</td>\n",
       "      <td>0.000000</td>\n",
       "      <td>0.000000</td>\n",
       "      <td>0.500000</td>\n",
       "      <td>0.000000</td>\n",
       "      <td>711</td>\n",
       "    </tr>\n",
       "    <tr>\n",
       "      <th>2</th>\n",
       "      <td>http://mashable.com/2013/01/07/apple-40-billio...</td>\n",
       "      <td>731.0</td>\n",
       "      <td>9.0</td>\n",
       "      <td>211.0</td>\n",
       "      <td>0.575130</td>\n",
       "      <td>1.0</td>\n",
       "      <td>0.663866</td>\n",
       "      <td>3.0</td>\n",
       "      <td>1.0</td>\n",
       "      <td>1.0</td>\n",
       "      <td>...</td>\n",
       "      <td>0.100000</td>\n",
       "      <td>1.0</td>\n",
       "      <td>-0.466667</td>\n",
       "      <td>-0.800</td>\n",
       "      <td>-0.133333</td>\n",
       "      <td>0.000000</td>\n",
       "      <td>0.000000</td>\n",
       "      <td>0.500000</td>\n",
       "      <td>0.000000</td>\n",
       "      <td>1500</td>\n",
       "    </tr>\n",
       "    <tr>\n",
       "      <th>3</th>\n",
       "      <td>http://mashable.com/2013/01/07/astronaut-notre...</td>\n",
       "      <td>731.0</td>\n",
       "      <td>9.0</td>\n",
       "      <td>531.0</td>\n",
       "      <td>0.503788</td>\n",
       "      <td>1.0</td>\n",
       "      <td>0.665635</td>\n",
       "      <td>9.0</td>\n",
       "      <td>0.0</td>\n",
       "      <td>1.0</td>\n",
       "      <td>...</td>\n",
       "      <td>0.136364</td>\n",
       "      <td>0.8</td>\n",
       "      <td>-0.369697</td>\n",
       "      <td>-0.600</td>\n",
       "      <td>-0.166667</td>\n",
       "      <td>0.000000</td>\n",
       "      <td>0.000000</td>\n",
       "      <td>0.500000</td>\n",
       "      <td>0.000000</td>\n",
       "      <td>1200</td>\n",
       "    </tr>\n",
       "    <tr>\n",
       "      <th>4</th>\n",
       "      <td>http://mashable.com/2013/01/07/att-u-verse-apps/</td>\n",
       "      <td>731.0</td>\n",
       "      <td>13.0</td>\n",
       "      <td>1072.0</td>\n",
       "      <td>0.415646</td>\n",
       "      <td>1.0</td>\n",
       "      <td>0.540890</td>\n",
       "      <td>19.0</td>\n",
       "      <td>19.0</td>\n",
       "      <td>20.0</td>\n",
       "      <td>...</td>\n",
       "      <td>0.033333</td>\n",
       "      <td>1.0</td>\n",
       "      <td>-0.220192</td>\n",
       "      <td>-0.500</td>\n",
       "      <td>-0.050000</td>\n",
       "      <td>0.454545</td>\n",
       "      <td>0.136364</td>\n",
       "      <td>0.045455</td>\n",
       "      <td>0.136364</td>\n",
       "      <td>505</td>\n",
       "    </tr>\n",
       "  </tbody>\n",
       "</table>\n",
       "<p>5 rows × 61 columns</p>\n",
       "</div>"
      ],
      "text/plain": [
       "                                                 url   timedelta  \\\n",
       "0  http://mashable.com/2013/01/07/amazon-instant-...       731.0   \n",
       "1  http://mashable.com/2013/01/07/ap-samsung-spon...       731.0   \n",
       "2  http://mashable.com/2013/01/07/apple-40-billio...       731.0   \n",
       "3  http://mashable.com/2013/01/07/astronaut-notre...       731.0   \n",
       "4   http://mashable.com/2013/01/07/att-u-verse-apps/       731.0   \n",
       "\n",
       "    n_tokens_title   n_tokens_content   n_unique_tokens   n_non_stop_words  \\\n",
       "0             12.0              219.0          0.663594                1.0   \n",
       "1              9.0              255.0          0.604743                1.0   \n",
       "2              9.0              211.0          0.575130                1.0   \n",
       "3              9.0              531.0          0.503788                1.0   \n",
       "4             13.0             1072.0          0.415646                1.0   \n",
       "\n",
       "    n_non_stop_unique_tokens   num_hrefs   num_self_hrefs   num_imgs  ...  \\\n",
       "0                   0.815385         4.0              2.0        1.0  ...   \n",
       "1                   0.791946         3.0              1.0        1.0  ...   \n",
       "2                   0.663866         3.0              1.0        1.0  ...   \n",
       "3                   0.665635         9.0              0.0        1.0  ...   \n",
       "4                   0.540890        19.0             19.0       20.0  ...   \n",
       "\n",
       "    min_positive_polarity   max_positive_polarity   avg_negative_polarity  \\\n",
       "0                0.100000                     0.7               -0.350000   \n",
       "1                0.033333                     0.7               -0.118750   \n",
       "2                0.100000                     1.0               -0.466667   \n",
       "3                0.136364                     0.8               -0.369697   \n",
       "4                0.033333                     1.0               -0.220192   \n",
       "\n",
       "    min_negative_polarity   max_negative_polarity   title_subjectivity  \\\n",
       "0                  -0.600               -0.200000             0.500000   \n",
       "1                  -0.125               -0.100000             0.000000   \n",
       "2                  -0.800               -0.133333             0.000000   \n",
       "3                  -0.600               -0.166667             0.000000   \n",
       "4                  -0.500               -0.050000             0.454545   \n",
       "\n",
       "    title_sentiment_polarity   abs_title_subjectivity  \\\n",
       "0                  -0.187500                 0.000000   \n",
       "1                   0.000000                 0.500000   \n",
       "2                   0.000000                 0.500000   \n",
       "3                   0.000000                 0.500000   \n",
       "4                   0.136364                 0.045455   \n",
       "\n",
       "    abs_title_sentiment_polarity   shares  \n",
       "0                       0.187500      593  \n",
       "1                       0.000000      711  \n",
       "2                       0.000000     1500  \n",
       "3                       0.000000     1200  \n",
       "4                       0.136364      505  \n",
       "\n",
       "[5 rows x 61 columns]"
      ]
     },
     "execution_count": 5,
     "metadata": {},
     "output_type": "execute_result"
    }
   ],
   "source": [
    "df.head(5)"
   ]
  },
  {
   "cell_type": "code",
   "execution_count": 6,
   "id": "fd5eecf2-dac1-4daf-9b9b-7b9e8fbfcf1c",
   "metadata": {},
   "outputs": [],
   "source": [
    "df_cleaned = df.copy()"
   ]
  },
  {
   "cell_type": "code",
   "execution_count": 7,
   "id": "0baaffd5-6b61-46fd-aff1-f822456c987f",
   "metadata": {},
   "outputs": [],
   "source": [
    "df_cleaned.drop('url', axis=1, inplace=True)"
   ]
  },
  {
   "cell_type": "code",
   "execution_count": 8,
   "id": "d7736cc2-4f98-478a-adff-616cc5192796",
   "metadata": {},
   "outputs": [],
   "source": [
    "df_cleaned.columns = df_cleaned.columns.str.strip()"
   ]
  },
  {
   "cell_type": "code",
   "execution_count": 9,
   "id": "cad2903c-b15d-4a1a-b1b8-a3cfeab2b821",
   "metadata": {},
   "outputs": [],
   "source": [
    "from my_krml_25552249.data.sets import pop_target"
   ]
  },
  {
   "cell_type": "code",
   "execution_count": 10,
   "id": "0e6dfa1a-a9dc-482e-b31f-5fad4a4ee1fc",
   "metadata": {},
   "outputs": [],
   "source": [
    "features, target = pop_target(df_cleaned, 'shares')"
   ]
  },
  {
   "cell_type": "code",
   "execution_count": 11,
   "id": "0124dd6c-0c95-4fd1-a8b8-da929cbf0608",
   "metadata": {},
   "outputs": [],
   "source": [
    "from sklearn.preprocessing import StandardScaler"
   ]
  },
  {
   "cell_type": "code",
   "execution_count": 12,
   "id": "6cfeb87c-6b3e-41be-8e1c-ce6334fa0481",
   "metadata": {},
   "outputs": [],
   "source": [
    "scaler = StandardScaler()"
   ]
  },
  {
   "cell_type": "code",
   "execution_count": 13,
   "id": "9f7568ba-1157-428a-b712-afcfc6fb2493",
   "metadata": {},
   "outputs": [],
   "source": [
    "features = pd.DataFrame(scaler.fit_transform(features), columns=features.columns)"
   ]
  },
  {
   "cell_type": "code",
   "execution_count": 14,
   "id": "b0909360-ef8e-4d7e-9a0e-38a27df26302",
   "metadata": {},
   "outputs": [],
   "source": [
    "from joblib import dump"
   ]
  },
  {
   "cell_type": "code",
   "execution_count": 15,
   "id": "a6f33072-e7c0-4b2a-ae8d-38efa0d1bf97",
   "metadata": {},
   "outputs": [
    {
     "data": {
      "text/plain": [
       "['../models/scaler.joblib']"
      ]
     },
     "execution_count": 15,
     "metadata": {},
     "output_type": "execute_result"
    }
   ],
   "source": [
    "dump(scaler, '../models/scaler.joblib')"
   ]
  },
  {
   "cell_type": "code",
   "execution_count": 16,
   "id": "e15dae55-79e5-4105-a852-e8be38319f3c",
   "metadata": {},
   "outputs": [],
   "source": [
    "from my_krml_25552249.data.sets import split_sets_random"
   ]
  },
  {
   "cell_type": "code",
   "execution_count": 17,
   "id": "208a8d56-58a7-47d5-b9e4-d6bf1da2f8a9",
   "metadata": {},
   "outputs": [],
   "source": [
    "X_train, y_train, X_val, y_val, X_test, y_test = split_sets_random(features, target, test_ratio=0.2)"
   ]
  },
  {
   "cell_type": "code",
   "execution_count": 18,
   "id": "46b687fa-1265-45f1-b3c2-1f7228efb72c",
   "metadata": {},
   "outputs": [
    {
     "name": "stdout",
     "output_type": "stream",
     "text": [
      "(23786, 59)\n",
      "(7929, 59)\n",
      "(7929, 59)\n"
     ]
    }
   ],
   "source": [
    "print(X_train.shape)\n",
    "print(X_val.shape)\n",
    "print(X_test.shape)"
   ]
  },
  {
   "cell_type": "code",
   "execution_count": 19,
   "id": "00e18ef7-3b8a-4311-82ba-fd0337b0280d",
   "metadata": {},
   "outputs": [
    {
     "name": "stdout",
     "output_type": "stream",
     "text": [
      "(23786,)\n",
      "(7929,)\n",
      "(7929,)\n"
     ]
    }
   ],
   "source": [
    "print(y_train.shape)\n",
    "print(y_val.shape)\n",
    "print(y_test.shape)"
   ]
  },
  {
   "cell_type": "code",
   "execution_count": 20,
   "id": "0b5127b3-767b-4ed9-8488-1bc48db77be3",
   "metadata": {},
   "outputs": [],
   "source": [
    "from my_krml_25552249.data.sets import save_sets\n",
    "save_sets(X_train, y_train, X_val, y_val, X_test, y_test, path='../data/processed/')"
   ]
  },
  {
   "cell_type": "code",
   "execution_count": 21,
   "id": "5d54897f-60e4-44fa-b020-f2e363c736a5",
   "metadata": {},
   "outputs": [
    {
     "name": "stdout",
     "output_type": "stream",
     "text": [
      "RMSE Training: 11854.785261497587\n",
      "MAE Training: 3191.7838929535715\n"
     ]
    }
   ],
   "source": [
    "from sklearn.dummy import DummyRegressor\n",
    "\n",
    "base_model = DummyRegressor(strategy='mean')\n",
    "base_model.fit(X_train, y_train)        # fit on training data\n",
    "y_base = base_model.predict(X_train)    # predict on same training features\n",
    "\n",
    "from my_krml_25552249.models.performance import print_regressor_scores\n",
    "print_regressor_scores(y_preds=y_base, y_actuals=y_train, set_name='Training')"
   ]
  },
  {
   "cell_type": "code",
   "execution_count": null,
   "id": "d4a23ffd-6b80-4fde-8dd9-d5939a46b2c7",
   "metadata": {},
   "outputs": [],
   "source": []
  },
  {
   "cell_type": "code",
   "execution_count": null,
   "id": "e5b7eeb0-6ff2-4c54-a8cc-f02574b2c3c6",
   "metadata": {},
   "outputs": [],
   "source": []
  },
  {
   "cell_type": "code",
   "execution_count": null,
   "id": "c6131748-f7d0-40e2-b870-faa4399b4157",
   "metadata": {},
   "outputs": [],
   "source": []
  },
  {
   "cell_type": "code",
   "execution_count": null,
   "id": "75bd708c-d22a-48a7-bc6e-6e96bc570a98",
   "metadata": {},
   "outputs": [],
   "source": []
  },
  {
   "cell_type": "code",
   "execution_count": null,
   "id": "6f46ca0d-4900-471f-8458-61d86d950a4f",
   "metadata": {},
   "outputs": [],
   "source": []
  }
 ],
 "metadata": {
  "kernelspec": {
   "display_name": "Python 3 (ipykernel)",
   "language": "python",
   "name": "python3"
  },
  "language_info": {
   "codemirror_mode": {
    "name": "ipython",
    "version": 3
   },
   "file_extension": ".py",
   "mimetype": "text/x-python",
   "name": "python",
   "nbconvert_exporter": "python",
   "pygments_lexer": "ipython3",
   "version": "3.11.4"
  }
 },
 "nbformat": 4,
 "nbformat_minor": 5
}
